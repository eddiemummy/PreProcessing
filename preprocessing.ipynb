{
 "cells": [
  {
   "cell_type": "code",
   "execution_count": 7,
   "id": "c88495d1",
   "metadata": {},
   "outputs": [],
   "source": [
    "def remove_outliers(df,method_remove=\"mean_std\",norm_std=\"norm\"):\n",
    "    X_num = df.select_dtypes(\"number\")\n",
    "    if method_remove == \"mean_std\":\n",
    "        min_val = X_num.mean() - 3*X_num.std()\n",
    "        max_val = X_num.mean() + 3*X_num.std()\n",
    "        df = df[~((X_num > max_val)|(X_num < min_val)).any(axis=1)]\n",
    "    elif method_remove == \"iqr\":\n",
    "        q1 = X_num.quantile(0.25)\n",
    "        q3 = X_num.quantile(0.75)\n",
    "        iqr = q3-q1\n",
    "        min_ = q1-1.5*iqr\n",
    "        max_ = q3+1.5*iqr\n",
    "        df = df[~((X_num > max_)|(X_num < min_)).any(axis=1)]\n",
    "    elif method_remove == \"z_score\":\n",
    "        import scipy.stats as sts\n",
    "        z = np.abs(sts.zscore(X_num))\n",
    "        df = df[~(X_num < z).all(axis=1)]\n",
    "\n",
    "    ## normalization/std\n",
    "    if norm_std == \"norm\":\n",
    "        df = (df-df.min())/(df.max()-df.min())\n",
    "    elif norm_std == \"std\":\n",
    "        df = (df-df.mean())/(df.std())\n",
    "    \n",
    "    import plotly.express as px\n",
    "    featured = df.select_dtypes(\"number\").columns.tolist()\n",
    "    fig = px.box(df,y=featured)\n",
    "        \n",
    "    \n",
    "    return df,fig\n",
    "    "
   ]
  },
  {
   "cell_type": "code",
   "execution_count": null,
   "id": "c4fbbb4c",
   "metadata": {},
   "outputs": [],
   "source": []
  }
 ],
 "metadata": {
  "kernelspec": {
   "display_name": "Python 3 (ipykernel)",
   "language": "python",
   "name": "python3"
  },
  "language_info": {
   "codemirror_mode": {
    "name": "ipython",
    "version": 3
   },
   "file_extension": ".py",
   "mimetype": "text/x-python",
   "name": "python",
   "nbconvert_exporter": "python",
   "pygments_lexer": "ipython3",
   "version": "3.9.7"
  }
 },
 "nbformat": 4,
 "nbformat_minor": 5
}
